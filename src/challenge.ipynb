{
 "cells": [
  {
   "cell_type": "markdown",
   "metadata": {},
   "source": [
    "We will start by testing the backend of Polars"
   ]
  },
  {
   "cell_type": "code",
   "execution_count": 1,
   "metadata": {},
   "outputs": [],
   "source": [
    "from pathlib import Path\n",
    "import sys\n",
    "\n",
    "from backend.polars_backend import (\n",
    "    top_active_dates,\n",
    "    top_emojis,\n",
    "    top_mentioned_users\n",
    ")"
   ]
  },
  {
   "cell_type": "code",
   "execution_count": 2,
   "metadata": {},
   "outputs": [],
   "source": [
    "data_path = Path(\"../data/farmers-protest-tweets-2021-2-4.json\")"
   ]
  },
  {
   "cell_type": "code",
   "execution_count": 3,
   "metadata": {},
   "outputs": [
    {
     "name": "stdout",
     "output_type": "stream",
     "text": [
      "**Top 10 dates with the most tweets and their most active user:**\n",
      "\n",
      " 1. Date: 2021-02-12   —   User with the most tweets: RanbirS00614606\n",
      " 2. Date: 2021-02-13   —   User with the most tweets: MaanDee08215437\n",
      " 3. Date: 2021-02-17   —   User with the most tweets: RaaJVinderkaur\n",
      " 4. Date: 2021-02-16   —   User with the most tweets: jot__b\n",
      " 5. Date: 2021-02-14   —   User with the most tweets: rebelpacifist\n",
      " 6. Date: 2021-02-18   —   User with the most tweets: neetuanjle_nitu\n",
      " 7. Date: 2021-02-15   —   User with the most tweets: jot__b\n",
      " 8. Date: 2021-02-20   —   User with the most tweets: MangalJ23056160\n",
      " 9. Date: 2021-02-23   —   User with the most tweets: Surrypuria\n",
      "10. Date: 2021-02-19   —   User with the most tweets: Preetm91\n"
     ]
    }
   ],
   "source": [
    "n_dates = 10\n",
    "\n",
    "active_dates = top_active_dates(data_path, n=n_dates)\n",
    "\n",
    "print(f\"**Top {n_dates} dates with the most tweets and their most active user:**\\n\")\n",
    "for idx, (date, user) in enumerate(active_dates, start=1):\n",
    "    print(f\"{idx:2d}. Date: {date}   —   User with the most tweets: {user}\")"
   ]
  },
  {
   "cell_type": "code",
   "execution_count": 4,
   "metadata": {},
   "outputs": [
    {
     "name": "stdout",
     "output_type": "stream",
     "text": [
      "\n",
      "**Top 10 most used emojis (emoji — frequency):**\n",
      "\n",
      " 1. 🙏   —   7286\n",
      " 2. 😂   —   3072\n",
      " 3. 🚜   —   2972\n",
      " 4. ✊   —   2411\n",
      " 5. 🌾   —   2363\n",
      " 6. ❤   —   1779\n",
      " 7. 🤣   —   1668\n",
      " 8. 👇   —   1108\n",
      " 9. 💚   —   1040\n",
      "10. 💪   —   947\n"
     ]
    }
   ],
   "source": [
    "n_emojis = 10\n",
    "\n",
    "most_used_emojis = top_emojis(data_path, n=n_emojis)\n",
    "\n",
    "print(f\"\\n**Top {n_emojis} most used emojis (emoji — frequency):**\\n\")\n",
    "for idx, (emoji, frequency) in enumerate(most_used_emojis, start=1):\n",
    "    print(f\"{idx:2d}. {emoji}   —   {frequency}\")"
   ]
  },
  {
   "cell_type": "code",
   "execution_count": 5,
   "metadata": {},
   "outputs": [
    {
     "name": "stdout",
     "output_type": "stream",
     "text": [
      "\n",
      "**Top 10 most mentioned users (user — frequency):**\n",
      "\n",
      " 1. narendramodi   —   2265\n",
      " 2. Kisanektamorcha   —   1840\n",
      " 3. RakeshTikaitBKU   —   1644\n",
      " 4. PMOIndia   —   1427\n",
      " 5. RahulGandhi   —   1146\n",
      " 6. GretaThunberg   —   1048\n",
      " 7. RaviSinghKA   —   1019\n",
      " 8. rihanna   —   986\n",
      " 9. UNHumanRights   —   962\n",
      "10. meenaharris   —   926\n"
     ]
    }
   ],
   "source": [
    "n_mentions = 10\n",
    "\n",
    "most_mentioned_users = top_mentioned_users(data_path, n=n_mentions)\n",
    "\n",
    "print(f\"\\n**Top {n_mentions} most mentioned users (user — frequency):**\\n\")\n",
    "for idx, (user, count) in enumerate(most_mentioned_users, start=1):\n",
    "    print(f\"{idx:2d}. {user}   —   {count}\")"
   ]
  },
  {
   "cell_type": "code",
   "execution_count": null,
   "metadata": {},
   "outputs": [],
   "source": []
  }
 ],
 "metadata": {
  "kernelspec": {
   "display_name": "Python 3 (ipykernel)",
   "language": "python",
   "name": "python3"
  },
  "language_info": {
   "codemirror_mode": {
    "name": "ipython",
    "version": 3
   },
   "file_extension": ".py",
   "mimetype": "text/x-python",
   "name": "python",
   "nbconvert_exporter": "python",
   "pygments_lexer": "ipython3",
   "version": "3.10.16"
  }
 },
 "nbformat": 4,
 "nbformat_minor": 4
}
